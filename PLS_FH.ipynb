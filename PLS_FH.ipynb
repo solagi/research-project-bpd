{
 "cells": [
  {
   "cell_type": "code",
   "execution_count": null,
   "metadata": {},
   "outputs": [],
   "source": [
    "import pandas as pd\n",
    "import os\n",
    "import numpy as np"
   ]
  },
  {
   "cell_type": "markdown",
   "metadata": {},
   "source": [
    "# Preparing Train/Test data"
   ]
  },
  {
   "cell_type": "markdown",
   "metadata": {},
   "source": [
    "## Facial feature subsets"
   ]
  },
  {
   "cell_type": "code",
   "execution_count": null,
   "metadata": {},
   "outputs": [],
   "source": [
    "# Including only AU intensity (_r)\n",
    "def select_features_AU(file_df):\n",
    "    file_df = file_df.filter(regex='_r')\n",
    "    return file_df"
   ]
  },
  {
   "cell_type": "code",
   "execution_count": null,
   "metadata": {},
   "outputs": [],
   "source": [
    "# Including only specific AUs intensity (_r)) based on the value change analysis between mania levels\n",
    "def select_features_specific_AU(file_df):\n",
    "    file_df = file_df[[\" AU04_r\", \" AU06_r\", \" AU07_r\", \" AU10_r\", \" AU14_r\"]]\n",
    "    return file_df"
   ]
  },
  {
   "cell_type": "markdown",
   "metadata": {},
   "source": [
    "## Functionals"
   ]
  },
  {
   "cell_type": "code",
   "execution_count": null,
   "metadata": {},
   "outputs": [],
   "source": [
    "# FH functional\n",
    "def fh_functional(file_location): #\n",
    "    dataframe_list = []\n",
    "    idx = 0\n",
    "\n",
    "    for file in os.scandir(file_location):\n",
    "        temp_df = pd.read_csv(file)\n",
    "        temp_df = select_features_AU(temp_df)\n",
    "        new_df = pd.DataFrame(columns = ['0-1', '1-2', '2-3', '3-4','4-5'])\n",
    "        total_rows = len(temp_df.index) #gets the count of all frames per each sequence\n",
    "        \n",
    "        for AU in temp_df:\n",
    "            seq = {}\n",
    "            count1, count2, count3, count4, count5 = 0, 0, 0, 0, 0 #count of frames\n",
    "            \n",
    "            for score in temp_df[AU]: # evaluates the intensity value for every AU.\n",
    "                if score < 1 and score >= 0:\n",
    "                    count1 += 1\n",
    "\n",
    "                elif score < 2 and score >= 1:\n",
    "                    count2 += 1\n",
    "\n",
    "                elif score < 3 and score >= 2:\n",
    "                    count3 += 1\n",
    "\n",
    "                elif score < 4 and score >= 3:\n",
    "                    count4 += 1\n",
    "\n",
    "                elif score < 5 and score >= 4:\n",
    "                    count5 += 1\n",
    "    \n",
    "            new_row = {'0-1':round(count1/total_rows, 2), '1-2':round(count2/total_rows, 2), '2-3':round(count3/total_rows, 2), \n",
    "                       '3-4':round(count4/total_rows, 2), '4-5':round(count5/total_rows, 2)} # converts data into percentages.\n",
    "            new_df = new_df.append(new_row, ignore_index=True)\n",
    "\n",
    "    \n",
    "        for label in train_labels_df:\n",
    "            YMRS = train_labels_df.iloc[idx]['Total_YMRS']\n",
    "            ManiaLevel = train_labels_df.iloc[idx]['ManiaLevel']\n",
    "            new_df['Total_YMRS'] = YMRS\n",
    "            new_df['ManiaLevel'] = ManiaLevel\n",
    "\n",
    "        idx += 1\n",
    "        dataframe_list.append([file.name,new_df])\n",
    "        \n",
    "    return dataframe_list"
   ]
  },
  {
   "cell_type": "markdown",
   "metadata": {},
   "source": [
    "## Prepare Y data"
   ]
  },
  {
   "cell_type": "code",
   "execution_count": null,
   "metadata": {},
   "outputs": [],
   "source": [
    "# Label dataframe\n",
    "labels_df = pd.read_csv('./Data/Label/labels_metadata.csv', delimiter=',')\n",
    "train_labels_df = labels_df.drop(labels_df.columns[[1,2,3,6]], axis=1) # remove unnecessary columns\n",
    "train_labels_df = train_labels_df.drop(labels_df.index[:60]) # remove test rows\n",
    "train_labels_df.reset_index(inplace=True)\n",
    "\n",
    "dev_labels_df = labels_df.drop(labels_df.columns[[1,2,3,6]], axis=1)\n",
    "dev_labels_df = dev_labels_df.drop(labels_df.index[60:]) \n",
    "dev_labels_df.reset_index(inplace=True)"
   ]
  },
  {
   "cell_type": "markdown",
   "metadata": {},
   "source": [
    "## Prepare X data"
   ]
  },
  {
   "cell_type": "code",
   "execution_count": null,
   "metadata": {},
   "outputs": [],
   "source": [
    "au_train = fh_functional(\"Data/Train OpenFace LLD\")\n",
    "au_test = fh_functional(\"Data/Test OpenFace LLD\")\n",
    "au_dev = fh_functional(\"Data/Dev OpenFace LLD\")"
   ]
  },
  {
   "cell_type": "code",
   "execution_count": null,
   "metadata": {},
   "outputs": [],
   "source": [
    "# Feature vector creation\n",
    "def feature_vector(dataframe_list):\n",
    "    df = pd.DataFrame()\n",
    "    # df_target = pd.DataFrame()\n",
    "    idx = 0\n",
    "\n",
    "    for dataframe in dataframe_list:\n",
    "        YMRS = dataframe[1][\"Total_YMRS\"].mean()\n",
    "        Mania = dataframe[1][\"ManiaLevel\"].mean()\n",
    "        dataframe = dataframe[1].iloc[:, :-2]\n",
    "        dataframe = dataframe.unstack().to_frame().sort_index(level=1).transpose()\n",
    "\n",
    "        temp_df = pd.DataFrame(dataframe)\n",
    "        df = df.append(temp_df)\n",
    "    \n",
    "    return df"
   ]
  },
  {
   "cell_type": "code",
   "execution_count": null,
   "metadata": {},
   "outputs": [],
   "source": [
    "train_df = feature_vector(au_train)\n",
    "test_df = feature_vector(au_test)\n",
    "dev_df = feature_vector(au_dev)"
   ]
  },
  {
   "cell_type": "code",
   "execution_count": null,
   "metadata": {},
   "outputs": [],
   "source": [
    "X_train = train_df\n",
    "Y_train = train_labels_df[\"Total_YMRS\"]\n",
    "X_test = dev_df\n",
    "Y_test = dev_labels_df[\"Total_YMRS\"]"
   ]
  },
  {
   "cell_type": "markdown",
   "metadata": {},
   "source": [
    "## AU intensity distribution among mania levels"
   ]
  },
  {
   "cell_type": "code",
   "execution_count": null,
   "metadata": {},
   "outputs": [],
   "source": [
    "# Create groups based on ManiaLevel\n",
    "def mania_grouping(au_list):\n",
    "    ManiaLevel_1 = []\n",
    "    ManiaLevel_2 = []\n",
    "    ManiaLevel_3 = []\n",
    "\n",
    "    for item in au_list:\n",
    "        file_name = item[0]\n",
    "        mania = item[1][\"ManiaLevel\"].mean()\n",
    "\n",
    "        if mania == 1:\n",
    "            ManiaLevel_1.append({file_name:item[1]})\n",
    "    \n",
    "        elif mania == 2:\n",
    "            ManiaLevel_2.append({file_name:item[1]})\n",
    "\n",
    "        elif mania == 3:\n",
    "            ManiaLevel_3.append({file_name:item[1]})\n",
    "\n",
    "    return ManiaLevel_1, ManiaLevel_2, ManiaLevel_3"
   ]
  },
  {
   "cell_type": "code",
   "execution_count": null,
   "metadata": {},
   "outputs": [],
   "source": [
    "# Taking matrix and merge them from the mean. Overlay, addition of matrices and taking the mean.\n",
    "def mania_mean(df):\n",
    "    Mania_df_mean = pd.DataFrame(data=0, index=range(0,17), columns= ['0-1', '1-2', '2-3', '3-4','4-5'])\n",
    "\n",
    "    for item in df:\n",
    "        for x in item.values():\n",
    "            temp_df = pd.DataFrame(x.iloc[:, :-2])\n",
    "            Mania_df_mean = Mania_df_mean.add(temp_df)\n",
    "\n",
    "    Mania_df_mean = Mania_df_mean / len(df)\n",
    "\n",
    "    return Mania_df_mean\n"
   ]
  },
  {
   "cell_type": "code",
   "execution_count": null,
   "metadata": {},
   "outputs": [],
   "source": [
    "mania1_df, mania2_df, mania3_df = mania_grouping(au_train)\n",
    "mania1_df_mean, mania2_df_mean, mania3_df_mean = mania_mean(mania1_df), mania_mean(mania2_df), mania_mean(mania3_df)"
   ]
  },
  {
   "cell_type": "code",
   "execution_count": null,
   "metadata": {},
   "outputs": [],
   "source": [
    "import matplotlib.pyplot as plt"
   ]
  },
  {
   "cell_type": "code",
   "execution_count": null,
   "metadata": {},
   "outputs": [],
   "source": [
    "fig, axes = plt.subplots(17, 3, figsize=(35,55))\n",
    "# X-axis names\n",
    "fig.text(0.5, 0.1, \"Range of AU intensity\", ha=\"center\", size=20)\n",
    "fig.text(0.21, 0.89, \"ManiaLevel 1\", size=20)\n",
    "fig.text(0.48, 0.89, \"ManiaLevel 2\", size=20)\n",
    "fig.text(0.76, 0.89, \"ManiaLevel 3\", size=20)\n",
    "\n",
    "\n",
    "# Y-axis names.\n",
    "fig.text(0.08, 0.5, 'Mean percentage count of frames per AU', va='center', rotation='vertical', size=20)\n",
    "fig.text(0.1, 0.87, 'AU_1', rotation='vertical', size=20)\n",
    "fig.text(0.1, 0.82, 'AU_2', rotation='vertical', size=20)\n",
    "fig.text(0.1, 0.775, 'AU_4', rotation='vertical', size=20)\n",
    "fig.text(0.1, 0.735, 'AU_5', rotation='vertical', size=20)\n",
    "fig.text(0.1, 0.689, 'AU_6', rotation='vertical', size=20)\n",
    "fig.text(0.1, 0.642, 'AU_7', rotation='vertical', size=20)\n",
    "fig.text(0.1, 0.599, 'AU_9', rotation='vertical', size=20)\n",
    "fig.text(0.1, 0.552, 'AU_10', rotation='vertical', size=20)\n",
    "fig.text(0.1, 0.506, 'AU_12', rotation='vertical', size=20)\n",
    "fig.text(0.1, 0.462, 'AU_14', rotation='vertical', size=20)\n",
    "fig.text(0.1, 0.416, 'AU_15', rotation='vertical', size=20)\n",
    "fig.text(0.1, 0.371, 'AU_17', rotation='vertical', size=20)\n",
    "fig.text(0.1, 0.326, 'AU_20', rotation='vertical', size=20)\n",
    "fig.text(0.1, 0.283, 'AU_23', rotation='vertical', size=20)\n",
    "fig.text(0.1, 0.238, 'AU_25', rotation='vertical', size=20)\n",
    "fig.text(0.1, 0.193, 'AU_26', rotation='vertical', size=20)\n",
    "fig.text(0.1, 0.147, 'AU_45', rotation='vertical', size=20)\n",
    "\n",
    "row = 0\n",
    "index = 0\n",
    "for au in mania1_df_mean.itertuples():\n",
    "    while row != 17:\n",
    "        axes[row, 0].bar(mania1_df_mean.columns, mania1_df_mean.iloc[index])\n",
    "        row += 1\n",
    "        index += 1\n",
    "\n",
    "row = 0\n",
    "index = 0\n",
    "for au in mania2_df_mean.itertuples():\n",
    "    while row != 17:\n",
    "        axes[row, 1].bar(mania2_df_mean.columns, mania2_df_mean.iloc[index])\n",
    "        row += 1\n",
    "        index += 1\n",
    "\n",
    "row = 0\n",
    "index = 0\n",
    "for au in mania3_df_mean.itertuples():\n",
    "    while row != 17:\n",
    "        axes[row, 2].bar(mania3_df_mean.columns, mania3_df_mean.iloc[index])\n",
    "        row += 1\n",
    "        index += 1"
   ]
  },
  {
   "cell_type": "markdown",
   "metadata": {},
   "source": [
    "## Selecting specific AU subset"
   ]
  },
  {
   "cell_type": "code",
   "execution_count": null,
   "metadata": {},
   "outputs": [],
   "source": [
    "#Find change values between mania levels\n",
    "diff_df_1_2 = mania1_df_mean - mania2_df_mean\n",
    "diff_df_2_3 = mania2_df_mean - mania3_df_mean\n",
    "diff_df_1_3 = mania1_df_mean - mania3_df_mean"
   ]
  },
  {
   "cell_type": "code",
   "execution_count": null,
   "metadata": {},
   "outputs": [],
   "source": [
    "diff_df_1_2.style.applymap(lambda x: 'background-color : green' if x > 0.03 or x < -0.03 else '')"
   ]
  },
  {
   "cell_type": "code",
   "execution_count": null,
   "metadata": {},
   "outputs": [],
   "source": [
    "diff_df_2_3.style.applymap(lambda x: 'background-color : green' if x > x > 0.03 or x < -0.03 < -x else '')"
   ]
  },
  {
   "cell_type": "code",
   "execution_count": null,
   "metadata": {},
   "outputs": [],
   "source": [
    "diff_df_1_3.style.applymap(lambda x: 'background-color : green' if x > x > 0.03 or x < -0.03 < -x else '')"
   ]
  },
  {
   "cell_type": "markdown",
   "metadata": {},
   "source": [
    "# Cross-validation"
   ]
  },
  {
   "cell_type": "code",
   "execution_count": null,
   "metadata": {},
   "outputs": [],
   "source": [
    "#cross-validation scores\n",
    "from sklearn.model_selection import KFold\n",
    "from sklearn.model_selection import cross_val_score\n",
    "from sklearn.cross_decomposition import PLSRegression\n",
    "import numpy as np\n",
    "import matplotlib.pyplot as plt\n",
    "from numpy import mean, absolute, sqrt\n",
    "\n",
    "scores_mse = []\n",
    "scores_mae = []\n",
    "scores_r2 = []\n",
    "scores_rmse = []\n",
    "comp = []\n",
    "iterations = np.arange(1, 10)\n",
    "\n",
    "for comp_no in iterations:    \n",
    "    model = PLSRegression(n_components=comp_no)\n",
    "    mse = cross_val_score(model, X_train, Y_train, scoring='neg_mean_squared_error', cv=KFold()).mean()\n",
    "    rmse = cross_val_score(model, X_train, Y_train, scoring='neg_root_mean_squared_error', cv=KFold()).mean()\n",
    "    mae = cross_val_score(model, X_train, Y_train, scoring='neg_mean_absolute_error', cv=KFold()).mean()\n",
    "    r2 = cross_val_score(model, X_train, Y_train, scoring='r2', cv=KFold()).mean()\n",
    "\n",
    "    scores_mse.append(absolute(mse))\n",
    "    scores_mae.append(absolute(mae))\n",
    "    scores_r2.append(absolute(r2))\n",
    "    scores_rmse.append(absolute(rmse))\n",
    "    \n",
    "    comp.append(comp_no)"
   ]
  },
  {
   "cell_type": "code",
   "execution_count": null,
   "metadata": {},
   "outputs": [],
   "source": [
    "plt.plot(scores_mae)\n",
    "plt.xlabel('Number of PLS Components')\n",
    "plt.ylabel('MAE')"
   ]
  },
  {
   "cell_type": "code",
   "execution_count": null,
   "metadata": {},
   "outputs": [],
   "source": [
    "plt.plot(scores_mse)\n",
    "plt.xlabel('Number of PLS Components')\n",
    "plt.ylabel('MSE')"
   ]
  },
  {
   "cell_type": "code",
   "execution_count": null,
   "metadata": {},
   "outputs": [],
   "source": [
    "plt.plot(scores_r2)\n",
    "plt.xlabel('Number of PLS Components')\n",
    "plt.ylabel('r2')"
   ]
  },
  {
   "cell_type": "code",
   "execution_count": null,
   "metadata": {},
   "outputs": [],
   "source": [
    "plt.plot(scores_rmse)\n",
    "plt.xlabel('Number of PLS Components')\n",
    "plt.ylabel('RMSE')"
   ]
  },
  {
   "cell_type": "markdown",
   "metadata": {},
   "source": [
    "# The model"
   ]
  },
  {
   "cell_type": "code",
   "execution_count": null,
   "metadata": {},
   "outputs": [],
   "source": [
    "from sklearn.cross_decomposition import PLSRegression"
   ]
  },
  {
   "cell_type": "code",
   "execution_count": null,
   "metadata": {},
   "outputs": [],
   "source": [
    "regression = PLSRegression(n_components=1)\n",
    "regression.fit(X_train, Y_train)"
   ]
  },
  {
   "cell_type": "code",
   "execution_count": null,
   "metadata": {},
   "outputs": [],
   "source": [
    "regression.score(X_test, Y_test), regression.score(X_train, Y_train)"
   ]
  },
  {
   "cell_type": "markdown",
   "metadata": {},
   "source": [
    "# Prediction"
   ]
  },
  {
   "cell_type": "code",
   "execution_count": null,
   "metadata": {},
   "outputs": [],
   "source": [
    "y_pred = regression.predict(test_df)\n",
    "y_pred_class = np.array(y_pred)\n",
    "\n",
    "for i in range(len(y_pred_class)):\n",
    "    if y_pred_class[i] <= 7:\n",
    "        y_pred_class[i] = 1\n",
    "\n",
    "    elif y_pred_class[i] > 7 or y_pred_class[i] < 20:\n",
    "        y_pred_class[i] = 2\n",
    "\n",
    "    else:\n",
    "        y_pred_class[i] = 3"
   ]
  },
  {
   "cell_type": "code",
   "execution_count": null,
   "metadata": {},
   "outputs": [],
   "source": [
    "from sklearn.metrics import mean_absolute_error, mean_squared_error, recall_score\n",
    "\n",
    "mse = mean_squared_error(Y_test.iloc[:54], y_pred)\n",
    "mae = mean_absolute_error(Y_test.iloc[:54], y_pred)\n",
    "uar = recall_score(Y_test.iloc[:54], y_pred_class, average='macro')"
   ]
  },
  {
   "cell_type": "code",
   "execution_count": null,
   "metadata": {},
   "outputs": [],
   "source": [
    "'MSE: ' + str(mse), 'RMSE: ' + str(np.sqrt(mse)), 'MAE: ' + str(mae), 'R-sqaured: ' + str(regression.score(X_test, Y_test)), 'UAR: ' + str(uar)"
   ]
  }
 ],
 "metadata": {
  "kernelspec": {
   "display_name": "Python 3.9.13 64-bit (windows store)",
   "language": "python",
   "name": "python3"
  },
  "language_info": {
   "codemirror_mode": {
    "name": "ipython",
    "version": 3
   },
   "file_extension": ".py",
   "mimetype": "text/x-python",
   "name": "python",
   "nbconvert_exporter": "python",
   "pygments_lexer": "ipython3",
   "version": "3.9.13"
  },
  "orig_nbformat": 4,
  "vscode": {
   "interpreter": {
    "hash": "78f9b3525b118e40fd235adf7264fd2675d7ebc5ac85828864061321fde00e46"
   }
  }
 },
 "nbformat": 4,
 "nbformat_minor": 2
}
