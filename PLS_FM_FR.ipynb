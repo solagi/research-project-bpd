{
 "cells": [
  {
   "cell_type": "code",
   "execution_count": null,
   "metadata": {},
   "outputs": [],
   "source": [
    "import pandas as pd\n",
    "import os"
   ]
  },
  {
   "cell_type": "markdown",
   "metadata": {},
   "source": [
    "# Preparing Train/Test data"
   ]
  },
  {
   "cell_type": "markdown",
   "metadata": {},
   "source": [
    "## Facial feature subsets"
   ]
  },
  {
   "cell_type": "code",
   "execution_count": null,
   "metadata": {},
   "outputs": [],
   "source": [
    "# Including only AU intensity (_r)\n",
    "def select_features_AU(file_df):\n",
    "    file_df = file_df.filter(regex='_r')\n",
    "    # file_df = file_df.iloc[:, 435:452]\n",
    "    return file_df"
   ]
  },
  {
   "cell_type": "code",
   "execution_count": null,
   "metadata": {},
   "outputs": [],
   "source": [
    "# Including only specific AUs intensity based on the value change analysis between mania levels\n",
    "def select_features_specific_AU(file_df):\n",
    "    file_df = file_df[[\" AU04_r\", \" AU06_r\", \" AU07_r\", \" AU10_r\", \" AU14_r\"]]\n",
    "    return file_df"
   ]
  },
  {
   "cell_type": "code",
   "execution_count": null,
   "metadata": {},
   "outputs": [],
   "source": [
    "# Including all AU\n",
    "def select_features_all(file_df):\n",
    "    file_df = file_df.iloc[:, 5:]\n",
    "    return file_df"
   ]
  },
  {
   "cell_type": "code",
   "execution_count": null,
   "metadata": {},
   "outputs": [],
   "source": [
    "#Excluding all landmarks\n",
    "def select_features_lmk(file_df):\n",
    "    file_df = file_df[file_df.columns.drop(list(file_df.filter(regex='lmk')))]\n",
    "    file_df = file_df.iloc[:, 5:]\n",
    "    return file_df"
   ]
  },
  {
   "cell_type": "markdown",
   "metadata": {},
   "source": [
    "## Functionals"
   ]
  },
  {
   "cell_type": "code",
   "execution_count": null,
   "metadata": {},
   "outputs": [],
   "source": [
    "#FM functional\n",
    "def fm_functional(input_df):\n",
    "        av_column = pd.DataFrame(input_df.mean(axis=0))\n",
    "        av_column_t = av_column.transpose()\n",
    "\n",
    "        return av_column_t"
   ]
  },
  {
   "cell_type": "code",
   "execution_count": null,
   "metadata": {},
   "outputs": [],
   "source": [
    "#FR functional\n",
    "def fr_functional(input_df):\n",
    "    \n",
    "    feature_df = input_df\n",
    "    min_max_df = pd.DataFrame(columns=feature_df.columns)\n",
    "\n",
    "    for column in feature_df:\n",
    "        max = feature_df[column].max()\n",
    "        min = feature_df[column].min()\n",
    "        v = max - min\n",
    "        min_max_df.at[0, column] = v\n",
    "\n",
    "    return min_max_df"
   ]
  },
  {
   "cell_type": "code",
   "execution_count": null,
   "metadata": {},
   "outputs": [],
   "source": [
    "from sklearn.preprocessing import MinMaxScaler\n",
    "\n",
    "def normalize_data(input_df):\n",
    "    scaler = MinMaxScaler()\n",
    "    df_1 = scaler.fit_transform(input_df)\n",
    "    df_2 = pd.DataFrame(df_1, columns=input_df.columns)\n",
    "    return df_2"
   ]
  },
  {
   "cell_type": "markdown",
   "metadata": {},
   "source": [
    "## Prepare X data"
   ]
  },
  {
   "cell_type": "code",
   "execution_count": null,
   "metadata": {},
   "outputs": [],
   "source": [
    "#Create feature vector for every data set AND merge it together\n",
    "def prepare_data(file_location):\n",
    "    X = pd.DataFrame()\n",
    "    \n",
    "    for file in os.scandir(file_location):\n",
    "        temp_df = pd.read_csv(file, delimiter=',')\n",
    "        temp_df = select_features_all(temp_df)\n",
    "        temp_df_norm = normalize_data(temp_df)\n",
    "        temp_df_tr = fm_functional(temp_df_norm)\n",
    "        X = X.append(temp_df_tr, ignore_index=True)\n",
    "        \n",
    "    return X"
   ]
  },
  {
   "cell_type": "code",
   "execution_count": null,
   "metadata": {},
   "outputs": [],
   "source": [
    "X_train = prepare_data('Data/Train OpenFace LLD')"
   ]
  },
  {
   "cell_type": "code",
   "execution_count": null,
   "metadata": {},
   "outputs": [],
   "source": [
    "X_test = prepare_data('Data/Dev OpenFace LLD')"
   ]
  },
  {
   "cell_type": "code",
   "execution_count": null,
   "metadata": {},
   "outputs": [],
   "source": [
    "X_test.head(10)"
   ]
  },
  {
   "cell_type": "markdown",
   "metadata": {},
   "source": [
    "## Prepare Y data"
   ]
  },
  {
   "cell_type": "code",
   "execution_count": null,
   "metadata": {},
   "outputs": [],
   "source": [
    "# Label dataframe\n",
    "labels_df = pd.read_csv('./Data/Label/labels_metadata.csv', delimiter=',')"
   ]
  },
  {
   "cell_type": "code",
   "execution_count": null,
   "metadata": {},
   "outputs": [],
   "source": [
    "train_labels_df = labels_df.drop(labels_df.columns[[1,2,3,6]], axis=1) # remove unnecessary data variables\n",
    "train_labels_df = train_labels_df.drop(labels_df.index[:60]) # remove test rows\n",
    "train_labels_df.reset_index(inplace=True)\n",
    "train_labels_df"
   ]
  },
  {
   "cell_type": "code",
   "execution_count": null,
   "metadata": {},
   "outputs": [],
   "source": [
    "dev_labels_df = labels_df.drop(labels_df.columns[[1,2,3,6]], axis=1) \n",
    "dev_labels_df = dev_labels_df.drop(labels_df.index[60:]) \n",
    "dev_labels_df.reset_index(inplace=True)\n",
    "dev_labels_df.head(5)"
   ]
  },
  {
   "cell_type": "code",
   "execution_count": null,
   "metadata": {},
   "outputs": [],
   "source": [
    "y_train = train_labels_df[\"Total_YMRS\"]\n",
    "y_test = dev_labels_df[\"Total_YMRS\"]\n",
    "y_train"
   ]
  },
  {
   "cell_type": "markdown",
   "metadata": {},
   "source": [
    "## Cross-validation"
   ]
  },
  {
   "cell_type": "code",
   "execution_count": null,
   "metadata": {},
   "outputs": [],
   "source": [
    "from sklearn.model_selection import KFold\n",
    "from sklearn.model_selection import cross_val_score\n",
    "from sklearn.cross_decomposition import PLSRegression\n",
    "import numpy as np\n",
    "from numpy import absolute\n",
    "\n",
    "scores_mse = []\n",
    "scores_mae = []\n",
    "scores_r2 = []\n",
    "scores_rmse = []\n",
    "comp = []\n",
    "iterations = np.arange(1, 10)\n",
    "\n",
    "for comp_no in iterations:    \n",
    "    model = PLSRegression(n_components=comp_no)\n",
    "    mse = cross_val_score(model, X_train, y_train, scoring='neg_mean_squared_error', cv=KFold()).mean()\n",
    "    mae = cross_val_score(model, X_train, y_train, scoring='neg_mean_absolute_error', cv=KFold()).mean()\n",
    "    r2 = cross_val_score(model, X_train, y_train, scoring='r2', cv=KFold()).mean()\n",
    "    rmse = cross_val_score(model, X_train, y_train, scoring='neg_root_mean_squared_error', cv=KFold()).mean()\n",
    "\n",
    "    scores_mse.append(absolute(mse))\n",
    "    scores_mae.append(absolute(mae))\n",
    "    scores_r2.append(absolute(r2))\n",
    "    scores_rmse.append(absolute(rmse))\n",
    "    \n",
    "    comp.append(comp)\n",
    "\n",
    "    comp.append(comp_no)"
   ]
  },
  {
   "cell_type": "code",
   "execution_count": null,
   "metadata": {},
   "outputs": [],
   "source": [
    "import matplotlib.pyplot as plt\n",
    "\n",
    "plt.plot(scores_mse)\n",
    "plt.xlabel('Number of PLS Components')\n",
    "plt.ylabel('MSE_sqr')"
   ]
  },
  {
   "cell_type": "code",
   "execution_count": null,
   "metadata": {},
   "outputs": [],
   "source": [
    "plt.plot(scores_mse)\n",
    "plt.xlabel('Number of PLS Components')\n",
    "plt.ylabel('MSE_sqr')"
   ]
  },
  {
   "cell_type": "code",
   "execution_count": null,
   "metadata": {},
   "outputs": [],
   "source": [
    "plt.plot(scores_r2)\n",
    "plt.xlabel('Number of PLS Components')\n",
    "plt.ylabel('r2')"
   ]
  },
  {
   "cell_type": "code",
   "execution_count": null,
   "metadata": {},
   "outputs": [],
   "source": [
    "plt.plot(scores_rmse)\n",
    "plt.xlabel('Number of PLS Components')\n",
    "plt.ylabel('RMSE')"
   ]
  },
  {
   "cell_type": "markdown",
   "metadata": {},
   "source": [
    "# The model"
   ]
  },
  {
   "cell_type": "code",
   "execution_count": null,
   "metadata": {},
   "outputs": [],
   "source": [
    "from sklearn.cross_decomposition import PLSRegression"
   ]
  },
  {
   "cell_type": "code",
   "execution_count": null,
   "metadata": {},
   "outputs": [],
   "source": [
    "regression = PLSRegression(n_components=1, scale=False)"
   ]
  },
  {
   "cell_type": "code",
   "execution_count": null,
   "metadata": {},
   "outputs": [],
   "source": [
    "regression.fit(X_train, y_train)"
   ]
  },
  {
   "cell_type": "code",
   "execution_count": null,
   "metadata": {},
   "outputs": [],
   "source": [
    "# R^2 score\n",
    "print(regression.score(X_test, y_test)), print(regression.score(X_train, y_train))"
   ]
  },
  {
   "cell_type": "markdown",
   "metadata": {},
   "source": [
    "# Prediction"
   ]
  },
  {
   "cell_type": "code",
   "execution_count": null,
   "metadata": {},
   "outputs": [],
   "source": [
    "X_pred = prepare_data('Data/Test OpenFace LLD')"
   ]
  },
  {
   "cell_type": "code",
   "execution_count": null,
   "metadata": {},
   "outputs": [],
   "source": [
    "y_pred = regression.predict(X_pred)"
   ]
  },
  {
   "cell_type": "code",
   "execution_count": null,
   "metadata": {},
   "outputs": [],
   "source": [
    "y_pred_class = np.array(y_pred)\n",
    "\n",
    "for i in range(len(y_pred_class)):\n",
    "    if y_pred_class[i] <= 7:\n",
    "        y_pred_class[i] = 1\n",
    "\n",
    "    elif y_pred_class[i] > 7 or y_pred_class[i] < 20:\n",
    "        y_pred_class[i] = 2\n",
    "\n",
    "    else:\n",
    "        y_pred_class[i] = 3"
   ]
  },
  {
   "cell_type": "code",
   "execution_count": null,
   "metadata": {},
   "outputs": [],
   "source": [
    "from sklearn.metrics import mean_squared_error, mean_absolute_error, recall_score\n",
    "\n",
    "mse = mean_squared_error(y_test.iloc[:54], y_pred) #filtering for 54 values to align size of the data sets\n",
    "rmse = np.sqrt(mean_squared_error(y_test.iloc[:54], y_pred))\n",
    "mae = mean_absolute_error(y_test.iloc[:54], y_pred)\n",
    "uar = recall_score(y_test.iloc[:54], y_pred_class, average='macro')\n",
    "print(mse, rmse, mae, uar)"
   ]
  }
 ],
 "metadata": {
  "kernelspec": {
   "display_name": "Python 3.9.13 64-bit (windows store)",
   "language": "python",
   "name": "python3"
  },
  "language_info": {
   "codemirror_mode": {
    "name": "ipython",
    "version": 3
   },
   "file_extension": ".py",
   "mimetype": "text/x-python",
   "name": "python",
   "nbconvert_exporter": "python",
   "pygments_lexer": "ipython3",
   "version": "3.9.13"
  },
  "orig_nbformat": 4,
  "vscode": {
   "interpreter": {
    "hash": "78f9b3525b118e40fd235adf7264fd2675d7ebc5ac85828864061321fde00e46"
   }
  }
 },
 "nbformat": 4,
 "nbformat_minor": 2
}
